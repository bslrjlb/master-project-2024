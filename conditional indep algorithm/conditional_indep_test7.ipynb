{
 "cells": [
  {
   "cell_type": "code",
   "execution_count": 1,
   "metadata": {},
   "outputs": [],
   "source": [
    "import numpy as np\n",
    "import pandas as pd\n",
    "import rpy2   # 允许 Python 代码调用 R 语言的功能\n",
    "import rpy2.robjects   # 提供高级接口，用于从 Python 访问 R 的对象和函数\n",
    "rpy2.robjects.r['options'](warn=-1)  # 设置 R 的全局选项，使其在执行过程中不显示警告消息\n",
    "from rpy2.robjects.packages import importr   # importr: 在 Python 环境中导入 R 包\n",
    "import rpy2.robjects.numpy2ri\n",
    "rpy2.robjects.numpy2ri.activate()  # 激活 numpy 和 R 数组之间的自动转换\n",
    "importr('RCIT')   # RCIT 是一个 R 包，用于进行条件和非条件独立性测试\n",
    "import statsmodels.api as sm\n",
    "from scipy.stats import pearsonr\n",
    "from scipy.stats.mstats import winsorize\n",
    "import matplotlib.pyplot as plt\n",
    "from scipy.stats import chisquare"
   ]
  },
  {
   "cell_type": "code",
   "execution_count": 2,
   "metadata": {},
   "outputs": [
    {
     "data": {
      "text/html": [
       "<div>\n",
       "<style scoped>\n",
       "    .dataframe tbody tr th:only-of-type {\n",
       "        vertical-align: middle;\n",
       "    }\n",
       "\n",
       "    .dataframe tbody tr th {\n",
       "        vertical-align: top;\n",
       "    }\n",
       "\n",
       "    .dataframe thead th {\n",
       "        text-align: right;\n",
       "    }\n",
       "</style>\n",
       "<table border=\"1\" class=\"dataframe\">\n",
       "  <thead>\n",
       "    <tr style=\"text-align: right;\">\n",
       "      <th></th>\n",
       "      <th>total_emission_scope1</th>\n",
       "      <th>total_emission_scope2</th>\n",
       "      <th>gvkey</th>\n",
       "      <th>fyear</th>\n",
       "      <th>emission_growth_scope1</th>\n",
       "      <th>emission_growth_scope2</th>\n",
       "      <th>LOGSIZE</th>\n",
       "      <th>B/M</th>\n",
       "      <th>LEVERAGE</th>\n",
       "      <th>INVEST/A</th>\n",
       "      <th>ROE</th>\n",
       "      <th>LOGPPE</th>\n",
       "      <th>SALESGR</th>\n",
       "      <th>EPSGR</th>\n",
       "      <th>Yearly_RET</th>\n",
       "      <th>Yearly_MOM</th>\n",
       "      <th>BETA</th>\n",
       "      <th>VOLAT</th>\n",
       "      <th>Total Return</th>\n",
       "    </tr>\n",
       "  </thead>\n",
       "  <tbody>\n",
       "    <tr>\n",
       "      <th>count</th>\n",
       "      <td>7268.000000</td>\n",
       "      <td>7268.000000</td>\n",
       "      <td>7268.000000</td>\n",
       "      <td>7268.000000</td>\n",
       "      <td>7268.000000</td>\n",
       "      <td>7268.000000</td>\n",
       "      <td>7268.000000</td>\n",
       "      <td>7268.000000</td>\n",
       "      <td>7268.000000</td>\n",
       "      <td>7268.000000</td>\n",
       "      <td>7268.000000</td>\n",
       "      <td>7268.000000</td>\n",
       "      <td>7268.000000</td>\n",
       "      <td>7268.000000</td>\n",
       "      <td>7268.000000</td>\n",
       "      <td>7268.000000</td>\n",
       "      <td>7268.000000</td>\n",
       "      <td>7268.000000</td>\n",
       "      <td>7268.000000</td>\n",
       "    </tr>\n",
       "    <tr>\n",
       "      <th>mean</th>\n",
       "      <td>10.451452</td>\n",
       "      <td>10.692676</td>\n",
       "      <td>60086.906026</td>\n",
       "      <td>2017.377133</td>\n",
       "      <td>0.054775</td>\n",
       "      <td>0.066364</td>\n",
       "      <td>8.226323</td>\n",
       "      <td>0.510250</td>\n",
       "      <td>0.294345</td>\n",
       "      <td>0.034758</td>\n",
       "      <td>7.263628</td>\n",
       "      <td>6.886113</td>\n",
       "      <td>0.083933</td>\n",
       "      <td>0.062337</td>\n",
       "      <td>13.187178</td>\n",
       "      <td>0.136502</td>\n",
       "      <td>1.199969</td>\n",
       "      <td>0.106913</td>\n",
       "      <td>17.398701</td>\n",
       "    </tr>\n",
       "    <tr>\n",
       "      <th>std</th>\n",
       "      <td>2.688317</td>\n",
       "      <td>2.096400</td>\n",
       "      <td>68688.395737</td>\n",
       "      <td>2.169103</td>\n",
       "      <td>0.296099</td>\n",
       "      <td>0.290900</td>\n",
       "      <td>1.935640</td>\n",
       "      <td>0.510607</td>\n",
       "      <td>0.205942</td>\n",
       "      <td>0.032821</td>\n",
       "      <td>33.021477</td>\n",
       "      <td>2.117528</td>\n",
       "      <td>0.500572</td>\n",
       "      <td>0.540568</td>\n",
       "      <td>38.035744</td>\n",
       "      <td>0.452803</td>\n",
       "      <td>0.569889</td>\n",
       "      <td>0.056556</td>\n",
       "      <td>54.549290</td>\n",
       "    </tr>\n",
       "    <tr>\n",
       "      <th>min</th>\n",
       "      <td>0.693147</td>\n",
       "      <td>2.544276</td>\n",
       "      <td>1004.000000</td>\n",
       "      <td>2011.000000</td>\n",
       "      <td>-0.587547</td>\n",
       "      <td>-0.510655</td>\n",
       "      <td>-4.612195</td>\n",
       "      <td>-0.040954</td>\n",
       "      <td>0.000000</td>\n",
       "      <td>0.000000</td>\n",
       "      <td>-109.224422</td>\n",
       "      <td>-2.465104</td>\n",
       "      <td>-0.636331</td>\n",
       "      <td>-0.500000</td>\n",
       "      <td>-65.486726</td>\n",
       "      <td>-0.836188</td>\n",
       "      <td>-1.655690</td>\n",
       "      <td>0.048709</td>\n",
       "      <td>-95.067633</td>\n",
       "    </tr>\n",
       "    <tr>\n",
       "      <th>25%</th>\n",
       "      <td>8.660408</td>\n",
       "      <td>9.292521</td>\n",
       "      <td>10839.000000</td>\n",
       "      <td>2016.000000</td>\n",
       "      <td>-0.072221</td>\n",
       "      <td>-0.076222</td>\n",
       "      <td>7.056048</td>\n",
       "      <td>0.195558</td>\n",
       "      <td>0.129368</td>\n",
       "      <td>0.012400</td>\n",
       "      <td>1.004850</td>\n",
       "      <td>5.526499</td>\n",
       "      <td>-0.025432</td>\n",
       "      <td>-0.500000</td>\n",
       "      <td>-11.883107</td>\n",
       "      <td>-0.128553</td>\n",
       "      <td>0.849781</td>\n",
       "      <td>0.064621</td>\n",
       "      <td>-10.029600</td>\n",
       "    </tr>\n",
       "    <tr>\n",
       "      <th>50%</th>\n",
       "      <td>10.257056</td>\n",
       "      <td>10.679036</td>\n",
       "      <td>24405.000000</td>\n",
       "      <td>2018.000000</td>\n",
       "      <td>0.024208</td>\n",
       "      <td>0.026449</td>\n",
       "      <td>8.250487</td>\n",
       "      <td>0.366354</td>\n",
       "      <td>0.279164</td>\n",
       "      <td>0.024900</td>\n",
       "      <td>10.474012</td>\n",
       "      <td>6.926657</td>\n",
       "      <td>0.045255</td>\n",
       "      <td>-0.032172</td>\n",
       "      <td>10.261199</td>\n",
       "      <td>0.092069</td>\n",
       "      <td>1.135646</td>\n",
       "      <td>0.091441</td>\n",
       "      <td>11.777821</td>\n",
       "    </tr>\n",
       "    <tr>\n",
       "      <th>75%</th>\n",
       "      <td>12.057649</td>\n",
       "      <td>12.124520</td>\n",
       "      <td>133366.000000</td>\n",
       "      <td>2019.000000</td>\n",
       "      <td>0.130744</td>\n",
       "      <td>0.153684</td>\n",
       "      <td>9.464959</td>\n",
       "      <td>0.657914</td>\n",
       "      <td>0.417040</td>\n",
       "      <td>0.046823</td>\n",
       "      <td>19.339226</td>\n",
       "      <td>8.284294</td>\n",
       "      <td>0.129078</td>\n",
       "      <td>0.436295</td>\n",
       "      <td>33.728635</td>\n",
       "      <td>0.321871</td>\n",
       "      <td>1.467899</td>\n",
       "      <td>0.131648</td>\n",
       "      <td>34.946822</td>\n",
       "    </tr>\n",
       "    <tr>\n",
       "      <th>max</th>\n",
       "      <td>18.713283</td>\n",
       "      <td>16.571679</td>\n",
       "      <td>328795.000000</td>\n",
       "      <td>2020.000000</td>\n",
       "      <td>1.124937</td>\n",
       "      <td>1.138111</td>\n",
       "      <td>14.627616</td>\n",
       "      <td>2.663034</td>\n",
       "      <td>0.814584</td>\n",
       "      <td>0.163615</td>\n",
       "      <td>91.432361</td>\n",
       "      <td>13.144907</td>\n",
       "      <td>20.024247</td>\n",
       "      <td>1.000000</td>\n",
       "      <td>113.210702</td>\n",
       "      <td>2.733221</td>\n",
       "      <td>5.606757</td>\n",
       "      <td>0.337865</td>\n",
       "      <td>1042.570281</td>\n",
       "    </tr>\n",
       "  </tbody>\n",
       "</table>\n",
       "</div>"
      ],
      "text/plain": [
       "       total_emission_scope1  total_emission_scope2          gvkey  \\\n",
       "count            7268.000000            7268.000000    7268.000000   \n",
       "mean               10.451452              10.692676   60086.906026   \n",
       "std                 2.688317               2.096400   68688.395737   \n",
       "min                 0.693147               2.544276    1004.000000   \n",
       "25%                 8.660408               9.292521   10839.000000   \n",
       "50%                10.257056              10.679036   24405.000000   \n",
       "75%                12.057649              12.124520  133366.000000   \n",
       "max                18.713283              16.571679  328795.000000   \n",
       "\n",
       "             fyear  emission_growth_scope1  emission_growth_scope2  \\\n",
       "count  7268.000000             7268.000000             7268.000000   \n",
       "mean   2017.377133                0.054775                0.066364   \n",
       "std       2.169103                0.296099                0.290900   \n",
       "min    2011.000000               -0.587547               -0.510655   \n",
       "25%    2016.000000               -0.072221               -0.076222   \n",
       "50%    2018.000000                0.024208                0.026449   \n",
       "75%    2019.000000                0.130744                0.153684   \n",
       "max    2020.000000                1.124937                1.138111   \n",
       "\n",
       "           LOGSIZE          B/M     LEVERAGE     INVEST/A          ROE  \\\n",
       "count  7268.000000  7268.000000  7268.000000  7268.000000  7268.000000   \n",
       "mean      8.226323     0.510250     0.294345     0.034758     7.263628   \n",
       "std       1.935640     0.510607     0.205942     0.032821    33.021477   \n",
       "min      -4.612195    -0.040954     0.000000     0.000000  -109.224422   \n",
       "25%       7.056048     0.195558     0.129368     0.012400     1.004850   \n",
       "50%       8.250487     0.366354     0.279164     0.024900    10.474012   \n",
       "75%       9.464959     0.657914     0.417040     0.046823    19.339226   \n",
       "max      14.627616     2.663034     0.814584     0.163615    91.432361   \n",
       "\n",
       "            LOGPPE      SALESGR        EPSGR   Yearly_RET   Yearly_MOM  \\\n",
       "count  7268.000000  7268.000000  7268.000000  7268.000000  7268.000000   \n",
       "mean      6.886113     0.083933     0.062337    13.187178     0.136502   \n",
       "std       2.117528     0.500572     0.540568    38.035744     0.452803   \n",
       "min      -2.465104    -0.636331    -0.500000   -65.486726    -0.836188   \n",
       "25%       5.526499    -0.025432    -0.500000   -11.883107    -0.128553   \n",
       "50%       6.926657     0.045255    -0.032172    10.261199     0.092069   \n",
       "75%       8.284294     0.129078     0.436295    33.728635     0.321871   \n",
       "max      13.144907    20.024247     1.000000   113.210702     2.733221   \n",
       "\n",
       "              BETA        VOLAT  Total Return  \n",
       "count  7268.000000  7268.000000   7268.000000  \n",
       "mean      1.199969     0.106913     17.398701  \n",
       "std       0.569889     0.056556     54.549290  \n",
       "min      -1.655690     0.048709    -95.067633  \n",
       "25%       0.849781     0.064621    -10.029600  \n",
       "50%       1.135646     0.091441     11.777821  \n",
       "75%       1.467899     0.131648     34.946822  \n",
       "max       5.606757     0.337865   1042.570281  "
      ]
     },
     "execution_count": 2,
     "metadata": {},
     "output_type": "execute_result"
    }
   ],
   "source": [
    "year_data = pd.read_csv('../year_regression_data.csv')\n",
    "year_data = year_data.drop('Unnamed: 0', axis=1)\n",
    "year_data.describe()"
   ]
  },
  {
   "cell_type": "code",
   "execution_count": 3,
   "metadata": {},
   "outputs": [
    {
     "name": "stdout",
     "output_type": "stream",
     "text": [
      "         total_emission_scope1  total_emission_scope2  gvkey  fyear  \\\n",
      "gvkey                                                                 \n",
      "1004  0              10.991192              10.418976   1004   2017   \n",
      "      1              10.912216              10.320041   1004   2018   \n",
      "      2              11.049812              10.374722   1004   2019   \n",
      "      3              11.038996              10.343771   1004   2020   \n",
      "1045  4              17.568331              13.163596   1045   2014   \n",
      "\n",
      "         emission_growth_scope1  emission_growth_scope2    LOGSIZE       B_M  \\\n",
      "gvkey                                                                          \n",
      "1004  0               -0.004909                0.066148   7.218171  0.686441   \n",
      "      1               -0.433375               -0.345717   7.169338  0.697391   \n",
      "      2                0.000940               -0.033136   7.366998  0.570228   \n",
      "      3                0.103229                0.026923   7.155617  0.760488   \n",
      "1045  4                0.989903                0.973466  10.529575  0.054029   \n",
      "\n",
      "         LEVERAGE  INVEST_A  ...  Yearly_MOM_t+1  Yearly_MOM_t-1  BETA_t+1  \\\n",
      "gvkey                        ...                                             \n",
      "1004  0  0.116220  0.014429  ...       -0.049961             NaN  1.008681   \n",
      "      1  0.093396  0.011468  ...        0.205483        0.216032  1.347706   \n",
      "      2  0.329293  0.011352  ...       -0.223583       -0.049961  2.526969   \n",
      "      3  0.133208  0.007339  ...             NaN        0.205483       NaN   \n",
      "1045  4  0.409038  0.121336  ...       -0.187349             NaN  1.708441   \n",
      "\n",
      "         BETA_t-1  VOLAT_t+1  VOLAT_t-1  EPSGR_t+1  EPSGR_t-1  \\\n",
      "gvkey                                                           \n",
      "1004  0       NaN   0.049558        NaN       -0.5        NaN   \n",
      "      1  1.876310   0.089625   0.092893       -0.5   0.416468   \n",
      "      2  1.008681   0.180985   0.049558       -0.5  -0.500000   \n",
      "      3  1.347706        NaN   0.089625        NaN  -0.500000   \n",
      "1045  4       NaN   0.097705        NaN        1.0        NaN   \n",
      "\n",
      "         Total Return_t+1  Total Return_t-1  \n",
      "gvkey                                        \n",
      "1004  0         -4.312834               NaN  \n",
      "      1         21.732168         19.881626  \n",
      "      2        -19.222561         -4.312834  \n",
      "      3               NaN         21.732168  \n",
      "1045  4        -20.348428               NaN  \n",
      "\n",
      "[5 rows x 53 columns]\n"
     ]
    },
    {
     "name": "stderr",
     "output_type": "stream",
     "text": [
      "C:\\Users\\18906\\AppData\\Local\\Temp\\ipykernel_35400\\1448851783.py:15: DeprecationWarning: DataFrameGroupBy.apply operated on the grouping columns. This behavior is deprecated, and in a future version of pandas the grouping columns will be excluded from the operation. Either pass `include_groups=False` to exclude the groupings or explicitly select the grouping columns after groupby to silence this warning.\n",
      "  year_data_shifted = year_data.groupby('gvkey').apply(shift_if_consecutive)\n"
     ]
    }
   ],
   "source": [
    "year_data = year_data.sort_values(by=['gvkey', 'fyear'])\n",
    "\n",
    "columns_to_shift = ['total_emission_scope1', 'total_emission_scope2', 'emission_growth_scope1', 'emission_growth_scope2',\n",
    "                    'LOGSIZE', 'B/M', 'LEVERAGE', 'INVEST/A', 'ROE', 'LOGPPE',\n",
    "                    'SALESGR', 'Yearly_RET', 'Yearly_MOM', 'BETA', 'VOLAT', 'EPSGR', 'Total Return']\n",
    "\n",
    "def shift_if_consecutive(group):\n",
    "    # 对于每个分组，直接向未来移动一期\n",
    "    for col in columns_to_shift:\n",
    "        group[f'{col}_t+1'] = group[col].shift(-1)\n",
    "        group[f'{col}_t-1'] = group[col].shift(+1)\n",
    "    return group  # 返回修改后的分组\n",
    "\n",
    "# 应用函数并进行组内处理\n",
    "year_data_shifted = year_data.groupby('gvkey').apply(shift_if_consecutive)\n",
    "\n",
    "# 替换列名中的斜杠\n",
    "year_data_shifted.columns = [col.replace('/', '_') for col in year_data_shifted.columns]\n",
    "\n",
    "# 打印结果\n",
    "print(year_data_shifted.head())"
   ]
  },
  {
   "cell_type": "code",
   "execution_count": 4,
   "metadata": {},
   "outputs": [
    {
     "data": {
      "text/html": [
       "<div>\n",
       "<style scoped>\n",
       "    .dataframe tbody tr th:only-of-type {\n",
       "        vertical-align: middle;\n",
       "    }\n",
       "\n",
       "    .dataframe tbody tr th {\n",
       "        vertical-align: top;\n",
       "    }\n",
       "\n",
       "    .dataframe thead th {\n",
       "        text-align: right;\n",
       "    }\n",
       "</style>\n",
       "<table border=\"1\" class=\"dataframe\">\n",
       "  <thead>\n",
       "    <tr style=\"text-align: right;\">\n",
       "      <th></th>\n",
       "      <th></th>\n",
       "      <th>total_emission_scope1</th>\n",
       "      <th>total_emission_scope2</th>\n",
       "      <th>gvkey</th>\n",
       "      <th>fyear</th>\n",
       "      <th>emission_growth_scope1</th>\n",
       "      <th>emission_growth_scope2</th>\n",
       "      <th>LOGSIZE</th>\n",
       "      <th>B_M</th>\n",
       "      <th>LEVERAGE</th>\n",
       "      <th>INVEST_A</th>\n",
       "      <th>...</th>\n",
       "      <th>Yearly_MOM_t+1</th>\n",
       "      <th>Yearly_MOM_t-1</th>\n",
       "      <th>BETA_t+1</th>\n",
       "      <th>BETA_t-1</th>\n",
       "      <th>VOLAT_t+1</th>\n",
       "      <th>VOLAT_t-1</th>\n",
       "      <th>EPSGR_t+1</th>\n",
       "      <th>EPSGR_t-1</th>\n",
       "      <th>Total Return_t+1</th>\n",
       "      <th>Total Return_t-1</th>\n",
       "    </tr>\n",
       "    <tr>\n",
       "      <th>gvkey</th>\n",
       "      <th></th>\n",
       "      <th></th>\n",
       "      <th></th>\n",
       "      <th></th>\n",
       "      <th></th>\n",
       "      <th></th>\n",
       "      <th></th>\n",
       "      <th></th>\n",
       "      <th></th>\n",
       "      <th></th>\n",
       "      <th></th>\n",
       "      <th></th>\n",
       "      <th></th>\n",
       "      <th></th>\n",
       "      <th></th>\n",
       "      <th></th>\n",
       "      <th></th>\n",
       "      <th></th>\n",
       "      <th></th>\n",
       "      <th></th>\n",
       "      <th></th>\n",
       "      <th></th>\n",
       "    </tr>\n",
       "  </thead>\n",
       "  <tbody>\n",
       "    <tr>\n",
       "      <th rowspan=\"2\" valign=\"top\">1004</th>\n",
       "      <th>1</th>\n",
       "      <td>10.912216</td>\n",
       "      <td>10.320041</td>\n",
       "      <td>1004</td>\n",
       "      <td>2018</td>\n",
       "      <td>-0.433375</td>\n",
       "      <td>-0.345717</td>\n",
       "      <td>7.169338</td>\n",
       "      <td>0.697391</td>\n",
       "      <td>0.093396</td>\n",
       "      <td>0.011468</td>\n",
       "      <td>...</td>\n",
       "      <td>0.205483</td>\n",
       "      <td>0.216032</td>\n",
       "      <td>1.347706</td>\n",
       "      <td>1.876310</td>\n",
       "      <td>0.089625</td>\n",
       "      <td>0.092893</td>\n",
       "      <td>-0.500000</td>\n",
       "      <td>0.416468</td>\n",
       "      <td>21.732168</td>\n",
       "      <td>19.881626</td>\n",
       "    </tr>\n",
       "    <tr>\n",
       "      <th>2</th>\n",
       "      <td>11.049812</td>\n",
       "      <td>10.374722</td>\n",
       "      <td>1004</td>\n",
       "      <td>2019</td>\n",
       "      <td>0.000940</td>\n",
       "      <td>-0.033136</td>\n",
       "      <td>7.366998</td>\n",
       "      <td>0.570228</td>\n",
       "      <td>0.329293</td>\n",
       "      <td>0.011352</td>\n",
       "      <td>...</td>\n",
       "      <td>-0.223583</td>\n",
       "      <td>-0.049961</td>\n",
       "      <td>2.526969</td>\n",
       "      <td>1.008681</td>\n",
       "      <td>0.180985</td>\n",
       "      <td>0.049558</td>\n",
       "      <td>-0.500000</td>\n",
       "      <td>-0.500000</td>\n",
       "      <td>-19.222561</td>\n",
       "      <td>-4.312834</td>\n",
       "    </tr>\n",
       "    <tr>\n",
       "      <th rowspan=\"3\" valign=\"top\">1045</th>\n",
       "      <th>5</th>\n",
       "      <td>17.557190</td>\n",
       "      <td>13.069887</td>\n",
       "      <td>1045</td>\n",
       "      <td>2015</td>\n",
       "      <td>-0.056380</td>\n",
       "      <td>0.152765</td>\n",
       "      <td>10.183115</td>\n",
       "      <td>0.213021</td>\n",
       "      <td>0.424682</td>\n",
       "      <td>0.127047</td>\n",
       "      <td>...</td>\n",
       "      <td>0.102479</td>\n",
       "      <td>0.957611</td>\n",
       "      <td>1.657326</td>\n",
       "      <td>2.134010</td>\n",
       "      <td>0.112408</td>\n",
       "      <td>0.307896</td>\n",
       "      <td>-0.500000</td>\n",
       "      <td>-0.500000</td>\n",
       "      <td>11.492748</td>\n",
       "      <td>113.471141</td>\n",
       "    </tr>\n",
       "    <tr>\n",
       "      <th>6</th>\n",
       "      <td>17.586556</td>\n",
       "      <td>12.884106</td>\n",
       "      <td>1045</td>\n",
       "      <td>2016</td>\n",
       "      <td>0.285051</td>\n",
       "      <td>0.094341</td>\n",
       "      <td>10.072621</td>\n",
       "      <td>0.159802</td>\n",
       "      <td>0.474783</td>\n",
       "      <td>0.111772</td>\n",
       "      <td>...</td>\n",
       "      <td>0.125947</td>\n",
       "      <td>-0.187349</td>\n",
       "      <td>1.347079</td>\n",
       "      <td>1.708441</td>\n",
       "      <td>0.098172</td>\n",
       "      <td>0.097705</td>\n",
       "      <td>-0.387675</td>\n",
       "      <td>1.000000</td>\n",
       "      <td>12.396797</td>\n",
       "      <td>-20.348428</td>\n",
       "    </tr>\n",
       "    <tr>\n",
       "      <th>7</th>\n",
       "      <td>17.550620</td>\n",
       "      <td>12.835747</td>\n",
       "      <td>1045</td>\n",
       "      <td>2017</td>\n",
       "      <td>0.056442</td>\n",
       "      <td>0.061271</td>\n",
       "      <td>10.116204</td>\n",
       "      <td>0.158686</td>\n",
       "      <td>0.487684</td>\n",
       "      <td>0.116176</td>\n",
       "      <td>...</td>\n",
       "      <td>-0.395442</td>\n",
       "      <td>0.102479</td>\n",
       "      <td>1.419841</td>\n",
       "      <td>1.657326</td>\n",
       "      <td>0.082570</td>\n",
       "      <td>0.112408</td>\n",
       "      <td>0.124177</td>\n",
       "      <td>-0.500000</td>\n",
       "      <td>-37.680518</td>\n",
       "      <td>11.492748</td>\n",
       "    </tr>\n",
       "  </tbody>\n",
       "</table>\n",
       "<p>5 rows × 53 columns</p>\n",
       "</div>"
      ],
      "text/plain": [
       "         total_emission_scope1  total_emission_scope2  gvkey  fyear  \\\n",
       "gvkey                                                                 \n",
       "1004  1              10.912216              10.320041   1004   2018   \n",
       "      2              11.049812              10.374722   1004   2019   \n",
       "1045  5              17.557190              13.069887   1045   2015   \n",
       "      6              17.586556              12.884106   1045   2016   \n",
       "      7              17.550620              12.835747   1045   2017   \n",
       "\n",
       "         emission_growth_scope1  emission_growth_scope2    LOGSIZE       B_M  \\\n",
       "gvkey                                                                          \n",
       "1004  1               -0.433375               -0.345717   7.169338  0.697391   \n",
       "      2                0.000940               -0.033136   7.366998  0.570228   \n",
       "1045  5               -0.056380                0.152765  10.183115  0.213021   \n",
       "      6                0.285051                0.094341  10.072621  0.159802   \n",
       "      7                0.056442                0.061271  10.116204  0.158686   \n",
       "\n",
       "         LEVERAGE  INVEST_A  ...  Yearly_MOM_t+1  Yearly_MOM_t-1  BETA_t+1  \\\n",
       "gvkey                        ...                                             \n",
       "1004  1  0.093396  0.011468  ...        0.205483        0.216032  1.347706   \n",
       "      2  0.329293  0.011352  ...       -0.223583       -0.049961  2.526969   \n",
       "1045  5  0.424682  0.127047  ...        0.102479        0.957611  1.657326   \n",
       "      6  0.474783  0.111772  ...        0.125947       -0.187349  1.347079   \n",
       "      7  0.487684  0.116176  ...       -0.395442        0.102479  1.419841   \n",
       "\n",
       "         BETA_t-1  VOLAT_t+1  VOLAT_t-1  EPSGR_t+1  EPSGR_t-1  \\\n",
       "gvkey                                                           \n",
       "1004  1  1.876310   0.089625   0.092893  -0.500000   0.416468   \n",
       "      2  1.008681   0.180985   0.049558  -0.500000  -0.500000   \n",
       "1045  5  2.134010   0.112408   0.307896  -0.500000  -0.500000   \n",
       "      6  1.708441   0.098172   0.097705  -0.387675   1.000000   \n",
       "      7  1.657326   0.082570   0.112408   0.124177  -0.500000   \n",
       "\n",
       "         Total Return_t+1  Total Return_t-1  \n",
       "gvkey                                        \n",
       "1004  1         21.732168         19.881626  \n",
       "      2        -19.222561         -4.312834  \n",
       "1045  5         11.492748        113.471141  \n",
       "      6         12.396797        -20.348428  \n",
       "      7        -37.680518         11.492748  \n",
       "\n",
       "[5 rows x 53 columns]"
      ]
     },
     "execution_count": 4,
     "metadata": {},
     "output_type": "execute_result"
    }
   ],
   "source": [
    "year_data_shifted = year_data_shifted.replace([np.inf, -np.inf], np.nan)\n",
    "year_data_shifted = year_data_shifted.dropna()\n",
    "year_data_shifted.head()"
   ]
  },
  {
   "cell_type": "markdown",
   "metadata": {},
   "source": [
    "### RCIT functions"
   ]
  },
  {
   "cell_type": "code",
   "execution_count": 5,
   "metadata": {},
   "outputs": [],
   "source": [
    "def RCIT(X, x_, y_, z_=None, random_seed=False):\n",
    "    if random_seed: seed = np.random.choice(1000)\n",
    "    else: seed = np.random.choice(1000) \n",
    "    local_copy = X.copy()\n",
    "    array = np.array(local_copy.transpose().dropna())\n",
    "    dim, T = array.shape\n",
    "    x_vals = array[x_]\n",
    "    y_vals = array[y_]\n",
    "    if z_ != None:\n",
    "        z_vals = array[z_].T.copy()\n",
    "        rcot = rpy2.robjects.r['RCIT'](x_vals, y_vals, z_vals, seed = seed)\n",
    "    else:\n",
    "        rcot = rpy2.robjects.r['RCIT'](x_vals, y_vals, seed = seed)\n",
    "    return float(rcot.rx2('p')[0])"
   ]
  },
  {
   "cell_type": "code",
   "execution_count": 6,
   "metadata": {},
   "outputs": [],
   "source": [
    "def RCIT_values(X, x_, y_, z_=None, random_seed=False, n_runs=10):\n",
    "    \n",
    "    p_values = []  \n",
    "    \n",
    "    for _ in range(n_runs):\n",
    "        p_value = RCIT(X, x_, y_, z_, random_seed)\n",
    "        p_values.append(p_value)\n",
    "    \n",
    "    return p_values"
   ]
  },
  {
   "cell_type": "code",
   "execution_count": 7,
   "metadata": {},
   "outputs": [
    {
     "name": "stdout",
     "output_type": "stream",
     "text": [
      "P-value: 0.7981390623953614\n"
     ]
    }
   ],
   "source": [
    "def chi2_test(p_values, num_bins=10):\n",
    "    \"\"\"\n",
    "    Perform a chi-square test for uniformity on a list of p-values.\n",
    "    \n",
    "    Parameters:\n",
    "    p_values (list): A list of p-values.\n",
    "    num_bins (int): Number of bins to divide the p-values into for the histogram.\n",
    "    \n",
    "    Returns:\n",
    "    chi2_statistic (float): The chi-square statistic.\n",
    "    p_value (float): The p-value from the chi-square test.\n",
    "    \"\"\"\n",
    "    # Bin the p-values and count the occurrences in each bin\n",
    "    observed_frequencies, _ = np.histogram(p_values, bins=np.linspace(0, 1, num_bins+1))\n",
    "    \n",
    "    # Expected frequency for each bin if p-values are uniformly distributed\n",
    "    expected_frequencies = np.full(num_bins, len(p_values) / num_bins)\n",
    "    \n",
    "    # Perform the chi-square test\n",
    "    chi2_statistic, p_value = chisquare(observed_frequencies, expected_frequencies)\n",
    "    \n",
    "    return chi2_statistic, p_value\n",
    "\n",
    "# Example usage\n",
    "p_values = np.random.uniform(0, 1, 100)  # Generating 100 random p-values as an example\n",
    "chi2_statistic, p_value = chi2_test(p_values)\n",
    "print(f\"P-value: {p_value}\")"
   ]
  },
  {
   "cell_type": "code",
   "execution_count": 8,
   "metadata": {},
   "outputs": [],
   "source": [
    "def graph(p_values):\n",
    "\n",
    "    # Plotting the histogram of p-values\n",
    "    plt.figure(figsize=(8, 4))\n",
    "    plt.hist(p_values, bins=20, color='blue', alpha=0.7, label='RCIT p-values')\n",
    "    plt.title('Distribution of p-values from RCIT test')\n",
    "    plt.xlabel('p-value')\n",
    "    plt.ylabel('Frequency')\n",
    "    plt.legend()\n",
    "    plt.show()"
   ]
  },
  {
   "cell_type": "markdown",
   "metadata": {},
   "source": [
    "### Conditional Independence Tests"
   ]
  },
  {
   "cell_type": "markdown",
   "metadata": {},
   "source": [
    "RET_t+1 ⊥ Total Emission Scope1_t | INVEST/A_t, LOGPPE_t, LOGSIZE_t\n",
    "***"
   ]
  },
  {
   "cell_type": "code",
   "execution_count": 31,
   "metadata": {},
   "outputs": [],
   "source": [
    "# normal\n",
    "X = year_data_shifted  \n",
    "\n",
    "x = year_data_shifted.columns.get_loc('Total Return_t+1')\n",
    "y = year_data_shifted.columns.get_loc('total_emission_scope1')\n",
    "z = [year_data_shifted.columns.get_loc('LOGSIZE'), year_data_shifted.columns.get_loc('LOGPPE'), \\\n",
    "     year_data_shifted.columns.get_loc('INVEST_A')]"
   ]
  },
  {
   "cell_type": "code",
   "execution_count": 33,
   "metadata": {},
   "outputs": [
    {
     "name": "stdout",
     "output_type": "stream",
     "text": [
      "average p value: 0.13287166904668596\n",
      "Chi-square Statistic: 286.6, P-value: 1.809174774731539e-56\n"
     ]
    }
   ],
   "source": [
    "p_values = RCIT_values(X, x, y, z, random_seed=True, n_runs=100)\n",
    "p_mean = np.average(p_values)\n",
    "print(f\"average p value: {p_mean}\")\n",
    "\n",
    "# uniformity test\n",
    "chi2_statistic, p_value = chi2_test(p_values)\n",
    "print(f\"Chi-square Statistic: {chi2_statistic}, P-value: {p_value}\")"
   ]
  },
  {
   "cell_type": "code",
   "execution_count": 34,
   "metadata": {},
   "outputs": [
    {
     "data": {
      "image/png": "[encoded data removed]",
      "text/plain": [
       "<Figure size 800x400 with 1 Axes>"
      ]
     },
     "metadata": {},
     "output_type": "display_data"
    }
   ],
   "source": [
    "graph(p_values)"
   ]
  },
  {
   "cell_type": "markdown",
   "metadata": {},
   "source": [
    "Unconditional"
   ]
  },
  {
   "cell_type": "code",
   "execution_count": 13,
   "metadata": {},
   "outputs": [],
   "source": [
    "# normal\n",
    "X = year_data_shifted  \n",
    "\n",
    "x = year_data_shifted.columns.get_loc('Total Return_t+1')\n",
    "y = year_data_shifted.columns.get_loc('total_emission_scope1')"
   ]
  },
  {
   "cell_type": "code",
   "execution_count": 14,
   "metadata": {},
   "outputs": [
    {
     "name": "stdout",
     "output_type": "stream",
     "text": [
      "average p value: 3.209789332372703e-05\n",
      "Chi-square Statistic: 900.0, P-value: 6.186801032394592e-188\n"
     ]
    }
   ],
   "source": [
    "p_values = RCIT_values(X, x, y, random_seed=True, n_runs=100)\n",
    "p_mean = np.average(p_values)\n",
    "print(f\"average p value: {p_mean}\")\n",
    "\n",
    "# uniformity test\n",
    "chi2_statistic, p_value = chi2_test(p_values)\n",
    "print(f\"Chi-square Statistic: {chi2_statistic}, P-value: {p_value}\")"
   ]
  },
  {
   "cell_type": "code",
   "execution_count": 15,
   "metadata": {},
   "outputs": [
    {
     "data": {
      "image/png": "[encoded data removed]",
      "text/plain": [
       "<Figure size 800x400 with 1 Axes>"
      ]
     },
     "metadata": {},
     "output_type": "display_data"
    }
   ],
   "source": [
    "graph(p_values)"
   ]
  },
  {
   "cell_type": "markdown",
   "metadata": {},
   "source": [
    "INVEST/A_t ⊥ RET_t+1 | LOGPPE_t, LOGSIZE_t, ROE_t, Total Emission Scope1_t, VOLAT_t"
   ]
  },
  {
   "cell_type": "code",
   "execution_count": 35,
   "metadata": {},
   "outputs": [],
   "source": [
    "# normal\n",
    "X = year_data_shifted  \n",
    "\n",
    "x = year_data_shifted.columns.get_loc('Total Return_t+1')\n",
    "y = year_data_shifted.columns.get_loc('INVEST_A')\n",
    "z = [ year_data_shifted.columns.get_loc('LOGPPE'), year_data_shifted.columns.get_loc('LOGSIZE'),\\\n",
    "      year_data_shifted.columns.get_loc('VOLAT'), year_data_shifted.columns.get_loc('ROE'), \\\n",
    "      year_data_shifted.columns.get_loc('total_emission_scope1')]"
   ]
  },
  {
   "cell_type": "code",
   "execution_count": 36,
   "metadata": {},
   "outputs": [
    {
     "name": "stdout",
     "output_type": "stream",
     "text": [
      "average p value: 0.2893700440817474\n",
      "Chi-square Statistic: 71.79999999999998, P-value: 6.7485052124756446e-12\n"
     ]
    }
   ],
   "source": [
    "p_values = RCIT_values(X, x, y, z, random_seed=True, n_runs=100)\n",
    "p_mean = np.average(p_values)\n",
    "print(f\"average p value: {p_mean}\")\n",
    "\n",
    "# uniformity test\n",
    "chi2_statistic, p_value = chi2_test(p_values)\n",
    "print(f\"Chi-square Statistic: {chi2_statistic}, P-value: {p_value}\")"
   ]
  },
  {
   "cell_type": "code",
   "execution_count": 37,
   "metadata": {},
   "outputs": [
    {
     "data": {
      "image/png": "[encoded data removed]",
      "text/plain": [
       "<Figure size 800x400 with 1 Axes>"
      ]
     },
     "metadata": {},
     "output_type": "display_data"
    }
   ],
   "source": [
    "graph(p_values)"
   ]
  },
  {
   "cell_type": "markdown",
   "metadata": {},
   "source": [
    "Unconditional"
   ]
  },
  {
   "cell_type": "code",
   "execution_count": 38,
   "metadata": {},
   "outputs": [
    {
     "name": "stdout",
     "output_type": "stream",
     "text": [
      "average p value: 0.05807850559548377\n",
      "Chi-square Statistic: 590.0, P-value: 2.9310709644865212e-121\n"
     ]
    }
   ],
   "source": [
    "p_values = RCIT_values(X, x, y, random_seed=True, n_runs=100)\n",
    "p_mean = np.average(p_values)\n",
    "print(f\"average p value: {p_mean}\")\n",
    "\n",
    "# uniformity test\n",
    "chi2_statistic, p_value = chi2_test(p_values)\n",
    "print(f\"Chi-square Statistic: {chi2_statistic}, P-value: {p_value}\")"
   ]
  },
  {
   "cell_type": "code",
   "execution_count": 39,
   "metadata": {},
   "outputs": [
    {
     "data": {
      "image/png": "[encoded data removed]",
      "text/plain": [
       "<Figure size 800x400 with 1 Axes>"
      ]
     },
     "metadata": {},
     "output_type": "display_data"
    }
   ],
   "source": [
    "graph(p_values)"
   ]
  },
  {
   "cell_type": "code",
   "execution_count": null,
   "metadata": {},
   "outputs": [],
   "source": []
  },
  {
   "cell_type": "code",
   "execution_count": 41,
   "metadata": {},
   "outputs": [],
   "source": [
    "# changes\n",
    "X = year_data_shifted  \n",
    "\n",
    "x = year_data_shifted.columns.get_loc('Total Return_t+1')\n",
    "y = year_data_shifted.columns.get_loc('INVEST_A')-year_data_shifted.columns.get_loc('INVEST_A_t-1')\n",
    "z = [ year_data_shifted.columns.get_loc('LOGPPE')-year_data_shifted.columns.get_loc('LOGPPE_t-1'), year_data_shifted.columns.get_loc('LOGSIZE')-year_data_shifted.columns.get_loc('LOGSIZE_t-1'),\\\n",
    "      year_data_shifted.columns.get_loc('VOLAT')-year_data_shifted.columns.get_loc('VOLAT_t-1'), year_data_shifted.columns.get_loc('ROE')-year_data_shifted.columns.get_loc('ROE_t-1'), \\\n",
    "      year_data_shifted.columns.get_loc('total_emission_scope1')-year_data_shifted.columns.get_loc('total_emission_scope1_t-1')]"
   ]
  },
  {
   "cell_type": "code",
   "execution_count": 42,
   "metadata": {},
   "outputs": [
    {
     "name": "stdout",
     "output_type": "stream",
     "text": [
      "average p value: 0.0007652783040182576\n",
      "Chi-square Statistic: 900.0, P-value: 6.186801032394592e-188\n"
     ]
    }
   ],
   "source": [
    "p_values = RCIT_values(X, x, y, z, random_seed=True, n_runs=100)\n",
    "p_mean = np.average(p_values)\n",
    "print(f\"average p value: {p_mean}\")\n",
    "\n",
    "# uniformity test\n",
    "chi2_statistic, p_value = chi2_test(p_values)\n",
    "print(f\"Chi-square Statistic: {chi2_statistic}, P-value: {p_value}\")"
   ]
  },
  {
   "cell_type": "code",
   "execution_count": 43,
   "metadata": {},
   "outputs": [
    {
     "data": {
      "image/png": "[encoded data removed]",
      "text/plain": [
       "<Figure size 800x400 with 1 Axes>"
      ]
     },
     "metadata": {},
     "output_type": "display_data"
    }
   ],
   "source": [
    "graph(p_values)"
   ]
  },
  {
   "cell_type": "code",
   "execution_count": null,
   "metadata": {},
   "outputs": [],
   "source": []
  },
  {
   "cell_type": "code",
   "execution_count": null,
   "metadata": {},
   "outputs": [],
   "source": []
  },
  {
   "cell_type": "code",
   "execution_count": null,
   "metadata": {},
   "outputs": [],
   "source": []
  },
  {
   "cell_type": "code",
   "execution_count": null,
   "metadata": {},
   "outputs": [],
   "source": []
  },
  {
   "cell_type": "code",
   "execution_count": null,
   "metadata": {},
   "outputs": [],
   "source": []
  },
  {
   "cell_type": "code",
   "execution_count": null,
   "metadata": {},
   "outputs": [],
   "source": []
  },
  {
   "cell_type": "code",
   "execution_count": null,
   "metadata": {},
   "outputs": [],
   "source": []
  },
  {
   "cell_type": "code",
   "execution_count": null,
   "metadata": {},
   "outputs": [],
   "source": []
  },
  {
   "cell_type": "code",
   "execution_count": null,
   "metadata": {},
   "outputs": [],
   "source": []
  },
  {
   "cell_type": "code",
   "execution_count": null,
   "metadata": {},
   "outputs": [],
   "source": []
  },
  {
   "cell_type": "code",
   "execution_count": null,
   "metadata": {},
   "outputs": [],
   "source": []
  },
  {
   "cell_type": "code",
   "execution_count": null,
   "metadata": {},
   "outputs": [],
   "source": []
  },
  {
   "cell_type": "code",
   "execution_count": null,
   "metadata": {},
   "outputs": [],
   "source": []
  },
  {
   "cell_type": "code",
   "execution_count": null,
   "metadata": {},
   "outputs": [],
   "source": []
  },
  {
   "cell_type": "code",
   "execution_count": null,
   "metadata": {},
   "outputs": [],
   "source": []
  },
  {
   "cell_type": "code",
   "execution_count": null,
   "metadata": {},
   "outputs": [],
   "source": []
  },
  {
   "cell_type": "code",
   "execution_count": null,
   "metadata": {},
   "outputs": [],
   "source": []
  },
  {
   "cell_type": "code",
   "execution_count": null,
   "metadata": {},
   "outputs": [],
   "source": []
  },
  {
   "cell_type": "code",
   "execution_count": null,
   "metadata": {},
   "outputs": [],
   "source": []
  },
  {
   "cell_type": "code",
   "execution_count": null,
   "metadata": {},
   "outputs": [],
   "source": []
  }
 ],
 "metadata": {
  "kernelspec": {
   "display_name": "Python 3",
   "language": "python",
   "name": "python3"
  },
  "language_info": {
   "codemirror_mode": {
    "name": "ipython",
    "version": 3
   },
   "file_extension": ".py",
   "mimetype": "text/x-python",
   "name": "python",
   "nbconvert_exporter": "python",
   "pygments_lexer": "ipython3",
   "version": "3.11.5"
  }
 },
 "nbformat": 4,
 "nbformat_minor": 2
}
