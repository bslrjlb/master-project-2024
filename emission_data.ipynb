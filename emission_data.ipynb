{
 "cells": [
  {
   "cell_type": "code",
   "execution_count": 38,
   "metadata": {},
   "outputs": [],
   "source": [
    "import numpy as np\n",
    "import pandas as pd\n",
    "import matplotlib.pyplot as plt\n",
    "import math\n",
    "from scipy.stats.mstats import winsorize"
   ]
  },
  {
   "cell_type": "markdown",
   "metadata": {},
   "source": [
    "### **Panel A: Emission variables**"
   ]
  },
  {
   "cell_type": "code",
   "execution_count": 39,
   "metadata": {},
   "outputs": [],
   "source": [
    "# load data as pandas data frames\n",
    "dataset_raw = pd.read_csv('dataset_raw.csv')\n",
    "\n",
    "# store emission variables\n",
    "emission_variables =  pd.DataFrame()"
   ]
  },
  {
   "cell_type": "code",
   "execution_count": 40,
   "metadata": {},
   "outputs": [],
   "source": [
    "dataset_sorted = dataset_raw.sort_values(['gvkey', 'fyear'])\n",
    "\n",
    "mask = (dataset_sorted['Scope_1'] > 0) & (dataset_sorted['Scope_2'] > 0)\n",
    "dataset_sorted['Scope_1'] = dataset_sorted['Scope_1'][mask]\n",
    "dataset_sorted['Scope_2'] = dataset_sorted['Scope_2'][mask]"
   ]
  },
  {
   "cell_type": "markdown",
   "metadata": {},
   "source": [
    "#### Log(total Emission)"
   ]
  },
  {
   "cell_type": "code",
   "execution_count": 41,
   "metadata": {},
   "outputs": [],
   "source": [
    "emission_variables['total_emission_scope1'] = np.log(dataset_sorted['Scope_1'])\n",
    "emission_variables['total_emission_scope2'] = np.log(dataset_sorted['Scope_2'])"
   ]
  },
  {
   "cell_type": "code",
   "execution_count": 42,
   "metadata": {},
   "outputs": [],
   "source": [
    "# store 'gvkey' and 'fyear' from the sorted dataset in the emission_variables dictionary\n",
    "emission_variables['gvkey'] = dataset_sorted['gvkey']\n",
    "emission_variables['fyear'] = dataset_sorted['fyear']"
   ]
  },
  {
   "cell_type": "markdown",
   "metadata": {},
   "source": [
    "#### Emission Growth Rate"
   ]
  },
  {
   "cell_type": "code",
   "execution_count": 43,
   "metadata": {},
   "outputs": [
    {
     "name": "stderr",
     "output_type": "stream",
     "text": [
      "C:\\Users\\18906\\AppData\\Local\\Temp\\ipykernel_18388\\1937878722.py:1: FutureWarning: The default fill_method='ffill' in SeriesGroupBy.pct_change is deprecated and will be removed in a future version. Either fill in any non-leading NA values prior to calling pct_change or specify 'fill_method=None' to not fill NA values.\n",
      "  emission_variables['emission_growth_scope1'] = dataset_sorted.groupby('gvkey')['Scope_1'].pct_change()\n",
      "C:\\Users\\18906\\AppData\\Local\\Temp\\ipykernel_18388\\1937878722.py:2: FutureWarning: The default fill_method='ffill' in SeriesGroupBy.pct_change is deprecated and will be removed in a future version. Either fill in any non-leading NA values prior to calling pct_change or specify 'fill_method=None' to not fill NA values.\n",
      "  emission_variables['emission_growth_scope2'] = dataset_sorted.groupby('gvkey')['Scope_2'].pct_change()\n"
     ]
    }
   ],
   "source": [
    "emission_variables['emission_growth_scope1'] = dataset_sorted.groupby('gvkey')['Scope_1'].pct_change()\n",
    "emission_variables['emission_growth_scope2'] = dataset_sorted.groupby('gvkey')['Scope_2'].pct_change()"
   ]
  },
  {
   "cell_type": "code",
   "execution_count": 44,
   "metadata": {},
   "outputs": [],
   "source": [
    "growth_rates1 = emission_variables['emission_growth_scope1']\n",
    "growth_rates2 = emission_variables['emission_growth_scope2']\n",
    "\n",
    "# inf, nan\n",
    "growth_rates1.replace([np.inf, -np.inf], np.nan, inplace=True)\n",
    "growth_rates1.dropna(inplace=True)\n",
    "growth_rates2.replace([np.inf, -np.inf], np.nan, inplace=True)\n",
    "growth_rates2.dropna(inplace=True)\n",
    "\n",
    "# winsorize\n",
    "winsorized_growth_rates1 = winsorize(growth_rates1, limits=[0.025, 0.025])\n",
    "winsorized_growth_rates2 = winsorize(growth_rates2, limits=[0.025, 0.025])"
   ]
  },
  {
   "cell_type": "code",
   "execution_count": 45,
   "metadata": {},
   "outputs": [],
   "source": [
    "# replace the emission growth by winsorized data\n",
    "emission_variables['emission_growth_scope1'] = pd.DataFrame(winsorized_growth_rates1)\n",
    "emission_variables['emission_growth_scope2'] = pd.DataFrame(winsorized_growth_rates2)"
   ]
  },
  {
   "cell_type": "markdown",
   "metadata": {},
   "source": [
    "### Carbon Intensity"
   ]
  },
  {
   "cell_type": "code",
   "execution_count": 49,
   "metadata": {},
   "outputs": [],
   "source": [
    "emission_variables['carbon_intensity_scope1'] = (dataset_sorted['Scope_1'] / (dataset_sorted['sale']*100)) \n",
    "emission_variables['carbon_intensity_scope2'] = (dataset_sorted['Scope_2'] / (dataset_sorted['sale']*100)) \n",
    "\n",
    "# inf, nan #\n",
    "emission_variables['carbon_intensity_scope1'].replace([np.inf, -np.inf], np.nan, inplace=True)\n",
    "emission_variables['carbon_intensity_scope1'].dropna(inplace=True)\n",
    "emission_variables['carbon_intensity_scope2'].replace([np.inf, -np.inf], np.nan, inplace=True)\n",
    "emission_variables['carbon_intensity_scope2'].dropna(inplace=True)\n",
    "\n",
    "# winsorize\n",
    "emission_variables['carbon_intensity_scope1'] = winsorize(emission_variables['carbon_intensity_scope1'], limits=[0.025, 0.025])\n",
    "emission_variables['carbon_intensity_scope2'] = winsorize(emission_variables['carbon_intensity_scope2'], limits=[0.025, 0.025])"
   ]
  },
  {
   "cell_type": "markdown",
   "metadata": {},
   "source": [
    "### Check emission data"
   ]
  },
  {
   "cell_type": "code",
   "execution_count": 47,
   "metadata": {},
   "outputs": [
    {
     "name": "stderr",
     "output_type": "stream",
     "text": [
      "c:\\Users\\18906\\Python\\Lib\\site-packages\\numpy\\lib\\function_base.py:4823: UserWarning: Warning: 'partition' will ignore the 'mask' of the MaskedArray.\n",
      "  arr.partition(\n",
      "c:\\Users\\18906\\Python\\Lib\\site-packages\\numpy\\lib\\function_base.py:4823: UserWarning: Warning: 'partition' will ignore the 'mask' of the MaskedArray.\n",
      "  arr.partition(\n",
      "c:\\Users\\18906\\Python\\Lib\\site-packages\\numpy\\lib\\function_base.py:4823: UserWarning: Warning: 'partition' will ignore the 'mask' of the MaskedArray.\n",
      "  arr.partition(\n",
      "c:\\Users\\18906\\Python\\Lib\\site-packages\\numpy\\lib\\function_base.py:4823: UserWarning: Warning: 'partition' will ignore the 'mask' of the MaskedArray.\n",
      "  arr.partition(\n",
      "c:\\Users\\18906\\Python\\Lib\\site-packages\\numpy\\lib\\function_base.py:4823: UserWarning: Warning: 'partition' will ignore the 'mask' of the MaskedArray.\n",
      "  arr.partition(\n",
      "c:\\Users\\18906\\Python\\Lib\\site-packages\\numpy\\lib\\function_base.py:4823: UserWarning: Warning: 'partition' will ignore the 'mask' of the MaskedArray.\n",
      "  arr.partition(\n"
     ]
    },
    {
     "data": {
      "text/html": [
       "<div>\n",
       "<style scoped>\n",
       "    .dataframe tbody tr th:only-of-type {\n",
       "        vertical-align: middle;\n",
       "    }\n",
       "\n",
       "    .dataframe tbody tr th {\n",
       "        vertical-align: top;\n",
       "    }\n",
       "\n",
       "    .dataframe thead th {\n",
       "        text-align: right;\n",
       "    }\n",
       "</style>\n",
       "<table border=\"1\" class=\"dataframe\">\n",
       "  <thead>\n",
       "    <tr style=\"text-align: right;\">\n",
       "      <th></th>\n",
       "      <th>total_emission_scope1</th>\n",
       "      <th>total_emission_scope2</th>\n",
       "      <th>gvkey</th>\n",
       "      <th>fyear</th>\n",
       "      <th>emission_growth_scope1</th>\n",
       "      <th>emission_growth_scope2</th>\n",
       "      <th>carbon_intensity_scope1</th>\n",
       "      <th>carbon_intensity_scope2</th>\n",
       "    </tr>\n",
       "  </thead>\n",
       "  <tbody>\n",
       "    <tr>\n",
       "      <th>count</th>\n",
       "      <td>15987.000000</td>\n",
       "      <td>15987.000000</td>\n",
       "      <td>15999.000000</td>\n",
       "      <td>15999.000000</td>\n",
       "      <td>13365.000000</td>\n",
       "      <td>13365.000000</td>\n",
       "      <td>15999.000000</td>\n",
       "      <td>15999.000000</td>\n",
       "    </tr>\n",
       "    <tr>\n",
       "      <th>mean</th>\n",
       "      <td>9.880214</td>\n",
       "      <td>10.095786</td>\n",
       "      <td>55747.186137</td>\n",
       "      <td>2016.570911</td>\n",
       "      <td>0.056679</td>\n",
       "      <td>0.068529</td>\n",
       "      <td>1.163097</td>\n",
       "      <td>0.303205</td>\n",
       "    </tr>\n",
       "    <tr>\n",
       "      <th>std</th>\n",
       "      <td>2.978628</td>\n",
       "      <td>2.464885</td>\n",
       "      <td>64393.751756</td>\n",
       "      <td>2.857792</td>\n",
       "      <td>0.295652</td>\n",
       "      <td>0.292209</td>\n",
       "      <td>3.586708</td>\n",
       "      <td>0.370308</td>\n",
       "    </tr>\n",
       "    <tr>\n",
       "      <th>min</th>\n",
       "      <td>-1.645065</td>\n",
       "      <td>-0.079043</td>\n",
       "      <td>1004.000000</td>\n",
       "      <td>2010.000000</td>\n",
       "      <td>-0.587399</td>\n",
       "      <td>-0.510633</td>\n",
       "      <td>0.003999</td>\n",
       "      <td>0.008185</td>\n",
       "    </tr>\n",
       "    <tr>\n",
       "      <th>25%</th>\n",
       "      <td>7.884177</td>\n",
       "      <td>8.627100</td>\n",
       "      <td>9815.000000</td>\n",
       "      <td>2015.000000</td>\n",
       "      <td>-0.070276</td>\n",
       "      <td>-0.074187</td>\n",
       "      <td>0.035725</td>\n",
       "      <td>0.073925</td>\n",
       "    </tr>\n",
       "    <tr>\n",
       "      <th>50%</th>\n",
       "      <td>9.816265</td>\n",
       "      <td>10.300611</td>\n",
       "      <td>24430.000000</td>\n",
       "      <td>2017.000000</td>\n",
       "      <td>0.023288</td>\n",
       "      <td>0.024767</td>\n",
       "      <td>0.130434</td>\n",
       "      <td>0.168343</td>\n",
       "    </tr>\n",
       "    <tr>\n",
       "      <th>75%</th>\n",
       "      <td>11.627291</td>\n",
       "      <td>11.748831</td>\n",
       "      <td>66731.000000</td>\n",
       "      <td>2019.000000</td>\n",
       "      <td>0.133633</td>\n",
       "      <td>0.155335</td>\n",
       "      <td>0.294071</td>\n",
       "      <td>0.403065</td>\n",
       "    </tr>\n",
       "    <tr>\n",
       "      <th>max</th>\n",
       "      <td>18.804073</td>\n",
       "      <td>16.920606</td>\n",
       "      <td>328795.000000</td>\n",
       "      <td>2020.000000</td>\n",
       "      <td>1.124937</td>\n",
       "      <td>1.138111</td>\n",
       "      <td>19.735829</td>\n",
       "      <td>1.780249</td>\n",
       "    </tr>\n",
       "  </tbody>\n",
       "</table>\n",
       "</div>"
      ],
      "text/plain": [
       "       total_emission_scope1  total_emission_scope2          gvkey  \\\n",
       "count           15987.000000           15987.000000   15999.000000   \n",
       "mean                9.880214              10.095786   55747.186137   \n",
       "std                 2.978628               2.464885   64393.751756   \n",
       "min                -1.645065              -0.079043    1004.000000   \n",
       "25%                 7.884177               8.627100    9815.000000   \n",
       "50%                 9.816265              10.300611   24430.000000   \n",
       "75%                11.627291              11.748831   66731.000000   \n",
       "max                18.804073              16.920606  328795.000000   \n",
       "\n",
       "              fyear  emission_growth_scope1  emission_growth_scope2  \\\n",
       "count  15999.000000            13365.000000            13365.000000   \n",
       "mean    2016.570911                0.056679                0.068529   \n",
       "std        2.857792                0.295652                0.292209   \n",
       "min     2010.000000               -0.587399               -0.510633   \n",
       "25%     2015.000000               -0.070276               -0.074187   \n",
       "50%     2017.000000                0.023288                0.024767   \n",
       "75%     2019.000000                0.133633                0.155335   \n",
       "max     2020.000000                1.124937                1.138111   \n",
       "\n",
       "       carbon_intensity_scope1  carbon_intensity_scope2  \n",
       "count             15999.000000             15999.000000  \n",
       "mean                  1.163097                 0.303205  \n",
       "std                   3.586708                 0.370308  \n",
       "min                   0.003999                 0.008185  \n",
       "25%                   0.035725                 0.073925  \n",
       "50%                   0.130434                 0.168343  \n",
       "75%                   0.294071                 0.403065  \n",
       "max                  19.735829                 1.780249  "
      ]
     },
     "execution_count": 47,
     "metadata": {},
     "output_type": "execute_result"
    }
   ],
   "source": [
    "emission_variables.describe()"
   ]
  },
  {
   "cell_type": "code",
   "execution_count": 50,
   "metadata": {},
   "outputs": [],
   "source": [
    "emission_variables.to_csv('./emission_variables.csv', index=True)"
   ]
  },
  {
   "cell_type": "code",
   "execution_count": null,
   "metadata": {},
   "outputs": [],
   "source": []
  }
 ],
 "metadata": {
  "kernelspec": {
   "display_name": "Python 3",
   "language": "python",
   "name": "python3"
  },
  "language_info": {
   "codemirror_mode": {
    "name": "ipython",
    "version": 3
   },
   "file_extension": ".py",
   "mimetype": "text/x-python",
   "name": "python",
   "nbconvert_exporter": "python",
   "pygments_lexer": "ipython3",
   "version": "3.11.5"
  }
 },
 "nbformat": 4,
 "nbformat_minor": 2
}
